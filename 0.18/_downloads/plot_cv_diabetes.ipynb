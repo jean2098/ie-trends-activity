{
  "nbformat": 4,
  "nbformat_minor": 0,
  "metadata": {
    "kernelspec": {
      "display_name": "Python 2",
      "name": "python2",
      "language": "python"
    },
    "language_info": {
      "mimetype": "text/x-python",
      "nbconvert_exporter": "python",
      "name": "python",
      "file_extension": ".py",
      "version": "2.7.12",
      "pygments_lexer": "ipython2",
      "codemirror_mode": {
        "version": 2,
        "name": "ipython"
      }
    },
    "colab": {
      "name": "plot_cv_diabetes.ipynb",
      "provenance": []
    }
  },
  "cells": [
    {
      "cell_type": "code",
      "metadata": {
        "id": "NA_kUhnOJhzv"
      },
      "source": [
        "%matplotlib inline"
      ],
      "execution_count": null,
      "outputs": []
    },
    {
      "cell_type": "markdown",
      "metadata": {
        "id": "Lb6SAJDVJhz0"
      },
      "source": [
        "\n",
        "# Cross-validation on diabetes Dataset Exercise\n",
        "\n",
        "\n",
        "A tutorial exercise which uses cross-validation with linear models.\n",
        "\n",
        "This exercise is used in the :ref:`cv_estimators_tut` part of the\n",
        ":ref:`model_selection_tut` section of the :ref:`stat_learn_tut_index`.\n"
      ]
    },
    {
      "cell_type": "code",
      "metadata": {
        "id": "iQ1Nf7ZeJhz1",
        "outputId": "e4dd978f-3487-4ef1-c47d-26f999b3d8b0",
        "colab": {
          "base_uri": "https://localhost:8080/",
          "height": 429
        }
      },
      "source": [
        "from __future__ import print_function\n",
        "print(__doc__)\n",
        "\n",
        "import numpy as np\n",
        "import matplotlib.pyplot as plt\n",
        "\n",
        "from sklearn import datasets\n",
        "from sklearn.linear_model import LassoCV\n",
        "from sklearn.linear_model import Lasso\n",
        "from sklearn.model_selection import KFold\n",
        "from sklearn.model_selection import cross_val_score\n",
        "\n",
        "diabetes = datasets.load_diabetes()\n",
        "X = diabetes.data[:150]\n",
        "y = diabetes.target[:150]\n",
        "\n",
        "lasso = Lasso(random_state=0)\n",
        "alphas = np.logspace(-4, -0.5, 30)\n",
        "\n",
        "scores = list()\n",
        "scores_std = list()\n",
        "\n",
        "n_folds = 3\n",
        "\n",
        "for alpha in alphas:\n",
        "    lasso.alpha = alpha\n",
        "    this_scores = cross_val_score(lasso, X, y, cv=n_folds, n_jobs=1)\n",
        "    scores.append(np.mean(this_scores))\n",
        "    scores_std.append(np.std(this_scores))\n",
        "\n",
        "scores, scores_std = np.array(scores), np.array(scores_std)\n",
        "\n",
        "plt.figure().set_size_inches(8, 6)\n",
        "plt.semilogx(alphas, scores)\n",
        "\n",
        "# plot error lines showing +/- std. errors of the scores\n",
        "std_error = scores_std / np.sqrt(n_folds)\n",
        "\n",
        "plt.semilogx(alphas, scores + std_error, 'b--')\n",
        "plt.semilogx(alphas, scores - std_error, 'b--')\n",
        "\n",
        "# alpha=0.2 controls the translucency of the fill color\n",
        "plt.fill_between(alphas, scores + std_error, scores - std_error, alpha=0.2)\n",
        "\n",
        "plt.ylabel('CV score +/- std error')\n",
        "plt.xlabel('alpha')\n",
        "plt.axhline(np.max(scores), linestyle='--', color='.5')\n",
        "plt.xlim([alphas[0], alphas[-1]])"
      ],
      "execution_count": 1,
      "outputs": [
        {
          "output_type": "stream",
          "text": [
            "Automatically created module for IPython interactive environment\n"
          ],
          "name": "stdout"
        },
        {
          "output_type": "execute_result",
          "data": {
            "text/plain": [
              "(0.0001, 0.31622776601683794)"
            ]
          },
          "metadata": {
            "tags": []
          },
          "execution_count": 1
        },
        {
          "output_type": "display_data",
          "data": {
            "image/png": "[encoded data removed]",
            "text/plain": [
              "<Figure size 576x432 with 1 Axes>"
            ]
          },
          "metadata": {
            "tags": [],
            "needs_background": "light"
          }
        }
      ]
    },
    {
      "cell_type": "markdown",
      "metadata": {
        "id": "4Wf_psNjJhz1"
      },
      "source": [
        "Bonus: how much can you trust the selection of alpha?\n"
      ]
    },
    {
      "cell_type": "code",
      "metadata": {
        "id": "PxIvScmpJhz2",
        "outputId": "a9e566fd-8f38-41a6-86de-2e6b16756ea9",
        "colab": {
          "base_uri": "https://localhost:8080/"
        }
      },
      "source": [
        "# To answer this question we use the LassoCV object that sets its alpha\n",
        "# parameter automatically from the data by internal cross-validation (i.e. it\n",
        "# performs cross-validation on the training data it receives).\n",
        "# We use external cross-validation to see how much the automatically obtained\n",
        "# alphas differ across different cross-validation folds.\n",
        "lasso_cv = LassoCV(alphas=alphas, random_state=0)\n",
        "k_fold = KFold(3)\n",
        "\n",
        "print(\"Answer to the bonus question:\",\n",
        "      \"how much can you trust the selection of alpha?\")\n",
        "print()\n",
        "print(\"Alpha parameters maximising the generalization score on different\")\n",
        "print(\"subsets of the data:\")\n",
        "for k, (train, test) in enumerate(k_fold.split(X, y)):\n",
        "    lasso_cv.fit(X[train], y[train])\n",
        "    print(\"[fold {0}] alpha: {1:.5f}, score: {2:.5f}\".\n",
        "          format(k, lasso_cv.alpha_, lasso_cv.score(X[test], y[test])))\n",
        "print()\n",
        "print(\"Answer: Not very much since we obtained different alphas for different\")\n",
        "print(\"subsets of the data and moreover, the scores for these alphas differ\")\n",
        "print(\"quite substantially.\")\n",
        "\n",
        "plt.show()"
      ],
      "execution_count": 2,
      "outputs": [
        {
          "output_type": "stream",
          "text": [
            "Answer to the bonus question: how much can you trust the selection of alpha?\n",
            "\n",
            "Alpha parameters maximising the generalization score on different\n",
            "subsets of the data:\n",
            "[fold 0] alpha: 0.10405, score: 0.53573\n",
            "[fold 1] alpha: 0.05968, score: 0.16278\n",
            "[fold 2] alpha: 0.10405, score: 0.44437\n",
            "\n",
            "Answer: Not very much since we obtained different alphas for different\n",
            "subsets of the data and moreover, the scores for these alphas differ\n",
            "quite substantially.\n"
          ],
          "name": "stdout"
        },
        {
          "output_type": "stream",
          "text": [
            "/usr/local/lib/python2.7/dist-packages/sklearn/model_selection/_split.py:2053: FutureWarning: You should specify a value for 'cv' instead of relying on the default value. The default value will change from 3 to 5 in version 0.22.\n",
            "  warnings.warn(CV_WARNING, FutureWarning)\n"
          ],
          "name": "stderr"
        }
      ]
    }
  ]
}